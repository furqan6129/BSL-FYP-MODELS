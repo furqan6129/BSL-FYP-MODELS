{
 "cells": [
  {
   "cell_type": "markdown",
   "metadata": {},
   "source": [
    "# 1. Import Dependencies"
   ]
  },
  {
   "cell_type": "code",
   "execution_count": null,
   "metadata": {},
   "outputs": [],
   "source": [
    "#Muhammad Furqan Shahid\n",
    "#Student ID:180023277\n",
    "#Candidate Number:529206\n",
    "#References for this notebook are also included in the Software References File."
   ]
  },
  {
   "cell_type": "code",
   "execution_count": null,
   "metadata": {},
   "outputs": [],
   "source": [
    "!pip install opencv-python"
   ]
  },
  {
   "cell_type": "code",
   "execution_count": 1,
   "metadata": {},
   "outputs": [],
   "source": [
    "# Import opencv\n",
    "import cv2 \n",
    "\n",
    "# Import uuid\n",
    "import uuid\n",
    "\n",
    "# Import Operating System\n",
    "import os\n",
    "\n",
    "# Import time\n",
    "import time"
   ]
  },
  {
   "cell_type": "markdown",
   "metadata": {},
   "source": [
    "# 2. Define Images to Collect"
   ]
  },
  {
   "cell_type": "code",
   "execution_count": 9,
   "metadata": {},
   "outputs": [],
   "source": [
    "labels = ['a','b','c','d''e','f','g','h']\n",
    "number_imgs = 30"
   ]
  },
  {
   "cell_type": "markdown",
   "metadata": {},
   "source": [
    "# 3. Setup Folders "
   ]
  },
  {
   "cell_type": "code",
   "execution_count": 10,
   "metadata": {},
   "outputs": [],
   "source": [
    "IMAGES_PATH = os.path.join('Tensorflow', 'workspace', 'images', 'collectedimages')"
   ]
  },
  {
   "cell_type": "code",
   "execution_count": 11,
   "metadata": {},
   "outputs": [],
   "source": [
    "if not os.path.exists(IMAGES_PATH):\n",
    "    if os.name == 'posix':\n",
    "        !mkdir -p {IMAGES_PATH}\n",
    "    if os.name == 'nt':\n",
    "         !mkdir {IMAGES_PATH}\n",
    "for label in labels:\n",
    "    path = os.path.join(IMAGES_PATH, label)\n",
    "    if not os.path.exists(path):\n",
    "        !mkdir {path}"
   ]
  },
  {
   "cell_type": "markdown",
   "metadata": {},
   "source": [
    "# 4. Capture Images"
   ]
  },
  {
   "cell_type": "code",
   "execution_count": 16,
   "metadata": {},
   "outputs": [
    {
     "name": "stdout",
     "output_type": "stream",
     "text": [
      "Collecting images for e\n",
      "Collecting image 0\n",
      "Collecting image 1\n",
      "Collecting image 2\n",
      "Collecting image 3\n",
      "Collecting image 4\n",
      "Collecting image 5\n",
      "Collecting image 6\n",
      "Collecting image 7\n",
      "Collecting image 8\n",
      "Collecting image 9\n",
      "Collecting image 10\n",
      "Collecting image 11\n",
      "Collecting image 12\n",
      "Collecting image 13\n",
      "Collecting image 14\n"
     ]
    }
   ],
   "source": [
    "for label in labels:\n",
    "    cap = cv2.VideoCapture(0)\n",
    "    print('Collecting images for {}'.format(label))\n",
    "    time.sleep(5)\n",
    "    for imgnum in range(number_imgs):\n",
    "        print('Collecting image {}'.format(imgnum))\n",
    "        ret, frame = cap.read()\n",
    "        imgname = os.path.join(IMAGES_PATH,label,label+'.'+'{}.jpg'.format(str(uuid.uuid1())))\n",
    "        cv2.imwrite(imgname, frame)\n",
    "        cv2.imshow('frame', frame)\n",
    "        time.sleep(3)\n",
    "\n",
    "        if cv2.waitKey(1) & 0xFF == ord('q'):\n",
    "            break\n",
    "cap.release()\n",
    "cv2.destroyAllWindows()"
   ]
  },
  {
   "cell_type": "markdown",
   "metadata": {},
   "source": [
    "# 5. Image Labelling"
   ]
  },
  {
   "cell_type": "code",
   "execution_count": 11,
   "metadata": {},
   "outputs": [
    {
     "name": "stdout",
     "output_type": "stream",
     "text": [
      "Collecting pyqt5\n",
      "  Downloading PyQt5-5.15.6-cp36-abi3-win_amd64.whl (6.7 MB)\n",
      "Collecting lxml\n",
      "  Downloading lxml-4.6.4-cp39-cp39-win_amd64.whl (3.5 MB)\n",
      "Collecting PyQt5-Qt5>=5.15.2\n",
      "  Downloading PyQt5_Qt5-5.15.2-py3-none-win_amd64.whl (50.1 MB)\n",
      "Collecting PyQt5-sip<13,>=12.8\n",
      "  Downloading PyQt5_sip-12.9.0-cp39-cp39-win_amd64.whl (63 kB)\n",
      "Installing collected packages: PyQt5-sip, PyQt5-Qt5, pyqt5, lxml\n",
      "Successfully installed PyQt5-Qt5-5.15.2 PyQt5-sip-12.9.0 lxml-4.6.4 pyqt5-5.15.6\n"
     ]
    }
   ],
   "source": [
    "!pip install --upgrade pyqt5 lxml"
   ]
  },
  {
   "cell_type": "code",
   "execution_count": 17,
   "metadata": {},
   "outputs": [],
   "source": [
    "LABELIMG_PATH = os.path.join('Tensorflow', 'labelimg')"
   ]
  },
  {
   "cell_type": "code",
   "execution_count": 18,
   "metadata": {},
   "outputs": [],
   "source": [
    "if not os.path.exists(LABELIMG_PATH):\n",
    "    !mkdir {LABELIMG_PATH}\n",
    "    !git clone https://github.com/tzutalin/labelImg {LABELIMG_PATH}"
   ]
  },
  {
   "cell_type": "code",
   "execution_count": 19,
   "metadata": {},
   "outputs": [],
   "source": [
    "if os.name == 'posix':\n",
    "    !cd {LABELIMG_PATH} && make qt5py3\n",
    "if os.name =='nt':\n",
    "    !cd {LABELIMG_PATH} && pyrcc5 -o libs/resources.py resources.qrc"
   ]
  },
  {
   "cell_type": "code",
   "execution_count": 31,
   "metadata": {},
   "outputs": [
    {
     "name": "stdout",
     "output_type": "stream",
     "text": [
      "Image:C:\\Users\\furqa\\OneDrive\\Desktop\\signLang2\\TFODCourse\\Tensorflow\\workspace\\images\\collectedimages\\e\\e.0b3f042c-8993-11ec-aa26-f077c303fd08.jpg -> Annotation:C:/Users/furqa/OneDrive/Desktop/signLang2/TFODCourse/Tensorflow/workspace/images/collectedimages/e/e.0b3f042c-8993-11ec-aa26-f077c303fd08.xml\n",
      "Image:C:\\Users\\furqa\\OneDrive\\Desktop\\signLang2\\TFODCourse\\Tensorflow\\workspace\\images\\collectedimages\\e\\e.0d0de415-8993-11ec-b4df-f077c303fd08.jpg -> Annotation:C:/Users/furqa/OneDrive/Desktop/signLang2/TFODCourse/Tensorflow/workspace/images/collectedimages/e/e.0d0de415-8993-11ec-b4df-f077c303fd08.xml\n",
      "Image:C:\\Users\\furqa\\OneDrive\\Desktop\\signLang2\\TFODCourse\\Tensorflow\\workspace\\images\\collectedimages\\e\\e.0edd06d2-8993-11ec-9f72-f077c303fd08.jpg -> Annotation:C:/Users/furqa/OneDrive/Desktop/signLang2/TFODCourse/Tensorflow/workspace/images/collectedimages/e/e.0edd06d2-8993-11ec-9f72-f077c303fd08.xml\n",
      "Image:C:\\Users\\furqa\\OneDrive\\Desktop\\signLang2\\TFODCourse\\Tensorflow\\workspace\\images\\collectedimages\\e\\e.1b86f27b-8993-11ec-a16c-f077c303fd08.jpg -> Annotation:C:/Users/furqa/OneDrive/Desktop/signLang2/TFODCourse/Tensorflow/workspace/images/collectedimages/e/e.1b86f27b-8993-11ec-a16c-f077c303fd08.xml\n",
      "Image:C:\\Users\\furqa\\OneDrive\\Desktop\\signLang2\\TFODCourse\\Tensorflow\\workspace\\images\\collectedimages\\e\\e.1d573502-8993-11ec-8555-f077c303fd08.jpg -> Annotation:C:/Users/furqa/OneDrive/Desktop/signLang2/TFODCourse/Tensorflow/workspace/images/collectedimages/e/e.1d573502-8993-11ec-8555-f077c303fd08.xml\n",
      "Image:C:\\Users\\furqa\\OneDrive\\Desktop\\signLang2\\TFODCourse\\Tensorflow\\workspace\\images\\collectedimages\\e\\e.1f25cb01-8993-11ec-9985-f077c303fd08.jpg -> Annotation:C:/Users/furqa/OneDrive/Desktop/signLang2/TFODCourse/Tensorflow/workspace/images/collectedimages/e/e.1f25cb01-8993-11ec-9985-f077c303fd08.xml\n",
      "Image:C:\\Users\\furqa\\OneDrive\\Desktop\\signLang2\\TFODCourse\\Tensorflow\\workspace\\images\\collectedimages\\e\\e.3b1dfeb6-8993-11ec-88dc-f077c303fd08.jpg -> Annotation:C:/Users/furqa/OneDrive/Desktop/signLang2/TFODCourse/Tensorflow/workspace/images/collectedimages/e/e.3b1dfeb6-8993-11ec-88dc-f077c303fd08.xml\n",
      "Image:C:\\Users\\furqa\\OneDrive\\Desktop\\signLang2\\TFODCourse\\Tensorflow\\workspace\\images\\collectedimages\\e\\e.3ceda55a-8993-11ec-a70f-f077c303fd08.jpg -> Annotation:C:/Users/furqa/OneDrive/Desktop/signLang2/TFODCourse/Tensorflow/workspace/images/collectedimages/e/e.3ceda55a-8993-11ec-a70f-f077c303fd08.xml\n",
      "Image:C:\\Users\\furqa\\OneDrive\\Desktop\\signLang2\\TFODCourse\\Tensorflow\\workspace\\images\\collectedimages\\e\\e.3ebc8839-8993-11ec-9625-f077c303fd08.jpg -> Annotation:C:/Users/furqa/OneDrive/Desktop/signLang2/TFODCourse/Tensorflow/workspace/images/collectedimages/e/e.3ebc8839-8993-11ec-9625-f077c303fd08.xml\n",
      "Image:C:\\Users\\furqa\\OneDrive\\Desktop\\signLang2\\TFODCourse\\Tensorflow\\workspace\\images\\collectedimages\\e\\e.4b61dc80-8993-11ec-b827-f077c303fd08.jpg -> Annotation:C:/Users/furqa/OneDrive/Desktop/signLang2/TFODCourse/Tensorflow/workspace/images/collectedimages/e/e.4b61dc80-8993-11ec-b827-f077c303fd08.xml\n",
      "Image:C:\\Users\\furqa\\OneDrive\\Desktop\\signLang2\\TFODCourse\\Tensorflow\\workspace\\images\\collectedimages\\e\\e.4d30296f-8993-11ec-9b7e-f077c303fd08.jpg -> Annotation:C:/Users/furqa/OneDrive/Desktop/signLang2/TFODCourse/Tensorflow/workspace/images/collectedimages/e/e.4d30296f-8993-11ec-9b7e-f077c303fd08.xml\n",
      "Image:C:\\Users\\furqa\\OneDrive\\Desktop\\signLang2\\TFODCourse\\Tensorflow\\workspace\\images\\collectedimages\\e\\e.4efeddf2-8993-11ec-8617-f077c303fd08.jpg -> Annotation:C:/Users/furqa/OneDrive/Desktop/signLang2/TFODCourse/Tensorflow/workspace/images/collectedimages/e/e.4efeddf2-8993-11ec-8617-f077c303fd08.xml\n",
      "Image:C:\\Users\\furqa\\OneDrive\\Desktop\\signLang2\\TFODCourse\\Tensorflow\\workspace\\images\\collectedimages\\e\\e.4f76d754-8992-11ec-a38c-f077c303fd08.jpg -> Annotation:C:/Users/furqa/OneDrive/Desktop/signLang2/TFODCourse/Tensorflow/workspace/images/collectedimages/e/e.4f76d754-8992-11ec-a38c-f077c303fd08.xml\n",
      "Image:C:\\Users\\furqa\\OneDrive\\Desktop\\signLang2\\TFODCourse\\Tensorflow\\workspace\\images\\collectedimages\\e\\e.5a4e8f6b-8992-11ec-a279-f077c303fd08.jpg -> Annotation:C:/Users/furqa/OneDrive/Desktop/signLang2/TFODCourse/Tensorflow/workspace/images/collectedimages/e/e.5a4e8f6b-8992-11ec-a279-f077c303fd08.xml\n",
      "Image:C:\\Users\\furqa\\OneDrive\\Desktop\\signLang2\\TFODCourse\\Tensorflow\\workspace\\images\\collectedimages\\e\\e.5c1e7e59-8992-11ec-991c-f077c303fd08.jpg -> Annotation:C:/Users/furqa/OneDrive/Desktop/signLang2/TFODCourse/Tensorflow/workspace/images/collectedimages/e/e.5c1e7e59-8992-11ec-991c-f077c303fd08.xml\n",
      "Image:C:\\Users\\furqa\\OneDrive\\Desktop\\signLang2\\TFODCourse\\Tensorflow\\workspace\\images\\collectedimages\\e\\e.5dee9683-8992-11ec-b913-f077c303fd08.jpg -> Annotation:C:/Users/furqa/OneDrive/Desktop/signLang2/TFODCourse/Tensorflow/workspace/images/collectedimages/e/e.5dee9683-8992-11ec-b913-f077c303fd08.xml\n",
      "Image:C:\\Users\\furqa\\OneDrive\\Desktop\\signLang2\\TFODCourse\\Tensorflow\\workspace\\images\\collectedimages\\e\\e.5fbf2143-8992-11ec-8270-f077c303fd08.jpg -> Annotation:C:/Users/furqa/OneDrive/Desktop/signLang2/TFODCourse/Tensorflow/workspace/images/collectedimages/e/e.5fbf2143-8992-11ec-8270-f077c303fd08.xml\n",
      "Image:C:\\Users\\furqa\\OneDrive\\Desktop\\signLang2\\TFODCourse\\Tensorflow\\workspace\\images\\collectedimages\\e\\e.07a09562-8993-11ec-b60e-f077c303fd08.jpg -> Annotation:C:/Users/furqa/OneDrive/Desktop/signLang2/TFODCourse/Tensorflow/workspace/images/collectedimages/e/e.07a09562-8993-11ec-b60e-f077c303fd08.xml\n",
      "Image:C:\\Users\\furqa\\OneDrive\\Desktop\\signLang2\\TFODCourse\\Tensorflow\\workspace\\images\\collectedimages\\e\\e.8b386d68-8992-11ec-8b13-f077c303fd08.jpg -> Annotation:C:/Users/furqa/OneDrive/Desktop/signLang2/TFODCourse/Tensorflow/workspace/images/collectedimages/e/e.8b386d68-8992-11ec-8b13-f077c303fd08.xml\n",
      "Image:C:\\Users\\furqa\\OneDrive\\Desktop\\signLang2\\TFODCourse\\Tensorflow\\workspace\\images\\collectedimages\\e\\e.8d07360d-8992-11ec-99c6-f077c303fd08.jpg -> Annotation:C:/Users/furqa/OneDrive/Desktop/signLang2/TFODCourse/Tensorflow/workspace/images/collectedimages/e/e.8d07360d-8992-11ec-99c6-f077c303fd08.xml\n",
      "Image:C:\\Users\\furqa\\OneDrive\\Desktop\\signLang2\\TFODCourse\\Tensorflow\\workspace\\images\\collectedimages\\e\\e.8ed79a67-8992-11ec-b783-f077c303fd08.jpg -> Annotation:C:/Users/furqa/OneDrive/Desktop/signLang2/TFODCourse/Tensorflow/workspace/images/collectedimages/e/e.8ed79a67-8992-11ec-b783-f077c303fd08.xml\n",
      "Image:C:\\Users\\furqa\\OneDrive\\Desktop\\signLang2\\TFODCourse\\Tensorflow\\workspace\\images\\collectedimages\\e\\e.9b856261-8992-11ec-b277-f077c303fd08.jpg -> Annotation:C:/Users/furqa/OneDrive/Desktop/signLang2/TFODCourse/Tensorflow/workspace/images/collectedimages/e/e.9b856261-8992-11ec-b277-f077c303fd08.xml\n",
      "Image:C:\\Users\\furqa\\OneDrive\\Desktop\\signLang2\\TFODCourse\\Tensorflow\\workspace\\images\\collectedimages\\e\\e.10ad2a27-8993-11ec-b0d0-f077c303fd08.jpg -> Annotation:C:/Users/furqa/OneDrive/Desktop/signLang2/TFODCourse/Tensorflow/workspace/images/collectedimages/e/e.10ad2a27-8993-11ec-b0d0-f077c303fd08.xml\n",
      "Image:C:\\Users\\furqa\\OneDrive\\Desktop\\signLang2\\TFODCourse\\Tensorflow\\workspace\\images\\collectedimages\\e\\e.17e7093d-8993-11ec-8bd1-f077c303fd08.jpg -> Annotation:C:/Users/furqa/OneDrive/Desktop/signLang2/TFODCourse/Tensorflow/workspace/images/collectedimages/e/e.17e7093d-8993-11ec-8bd1-f077c303fd08.xml\n",
      "Image:C:\\Users\\furqa\\OneDrive\\Desktop\\signLang2\\TFODCourse\\Tensorflow\\workspace\\images\\collectedimages\\e\\e.19b63b18-8993-11ec-a435-f077c303fd08.jpg -> Annotation:C:/Users/furqa/OneDrive/Desktop/signLang2/TFODCourse/Tensorflow/workspace/images/collectedimages/e/e.19b63b18-8993-11ec-a435-f077c303fd08.xml\n",
      "Image:C:\\Users\\furqa\\OneDrive\\Desktop\\signLang2\\TFODCourse\\Tensorflow\\workspace\\images\\collectedimages\\e\\e.20f43a11-8993-11ec-9c39-f077c303fd08.jpg -> Annotation:C:/Users/furqa/OneDrive/Desktop/signLang2/TFODCourse/Tensorflow/workspace/images/collectedimages/e/e.20f43a11-8993-11ec-9c39-f077c303fd08.xml\n",
      "Image:C:\\Users\\furqa\\OneDrive\\Desktop\\signLang2\\TFODCourse\\Tensorflow\\workspace\\images\\collectedimages\\e\\e.45f7fb7b-8993-11ec-8901-f077c303fd08.jpg -> Annotation:C:/Users/furqa/OneDrive/Desktop/signLang2/TFODCourse/Tensorflow/workspace/images/collectedimages/e/e.45f7fb7b-8993-11ec-8901-f077c303fd08.xml\n",
      "Image:C:\\Users\\furqa\\OneDrive\\Desktop\\signLang2\\TFODCourse\\Tensorflow\\workspace\\images\\collectedimages\\e\\e.47c505cb-8993-11ec-b93e-f077c303fd08.jpg -> Annotation:C:/Users/furqa/OneDrive/Desktop/signLang2/TFODCourse/Tensorflow/workspace/images/collectedimages/e/e.47c505cb-8993-11ec-b93e-f077c303fd08.xml\n",
      "Image:C:\\Users\\furqa\\OneDrive\\Desktop\\signLang2\\TFODCourse\\Tensorflow\\workspace\\images\\collectedimages\\e\\e.50cd06e9-8993-11ec-800c-f077c303fd08.jpg -> Annotation:C:/Users/furqa/OneDrive/Desktop/signLang2/TFODCourse/Tensorflow/workspace/images/collectedimages/e/e.50cd06e9-8993-11ec-800c-f077c303fd08.xml\n",
      "Image:C:\\Users\\furqa\\OneDrive\\Desktop\\signLang2\\TFODCourse\\Tensorflow\\workspace\\images\\collectedimages\\e\\e.54e56ff1-8992-11ec-a409-f077c303fd08.jpg -> Annotation:C:/Users/furqa/OneDrive/Desktop/signLang2/TFODCourse/Tensorflow/workspace/images/collectedimages/e/e.54e56ff1-8992-11ec-a409-f077c303fd08.xml\n",
      "Image:C:\\Users\\furqa\\OneDrive\\Desktop\\signLang2\\TFODCourse\\Tensorflow\\workspace\\images\\collectedimages\\e\\e.56b40173-8992-11ec-b0b3-f077c303fd08.jpg -> Annotation:C:/Users/furqa/OneDrive/Desktop/signLang2/TFODCourse/Tensorflow/workspace/images/collectedimages/e/e.56b40173-8992-11ec-b0b3-f077c303fd08.xml\n",
      "Image:C:\\Users\\furqa\\OneDrive\\Desktop\\signLang2\\TFODCourse\\Tensorflow\\workspace\\images\\collectedimages\\e\\e.56b40173-8992-11ec-b0b3-f077c303fd08.jpg -> Annotation:C:\\Users\\furqa\\OneDrive\\Desktop\\signLang2\\TFODCourse\\Tensorflow\\workspace\\images\\collectedimages\\e\\e.56b40173-8992-11ec-b0b3-f077c303fd08.xml\n",
      "Image:C:\\Users\\furqa\\OneDrive\\Desktop\\signLang2\\TFODCourse\\Tensorflow\\workspace\\images\\collectedimages\\e\\e.66faee28-8992-11ec-a38b-f077c303fd08.jpg -> Annotation:C:/Users/furqa/OneDrive/Desktop/signLang2/TFODCourse/Tensorflow/workspace/images/collectedimages/e/e.66faee28-8992-11ec-a38b-f077c303fd08.xml\n",
      "Image:C:\\Users\\furqa\\OneDrive\\Desktop\\signLang2\\TFODCourse\\Tensorflow\\workspace\\images\\collectedimages\\e\\e.68c97faa-8992-11ec-98c7-f077c303fd08.jpg -> Annotation:C:/Users/furqa/OneDrive/Desktop/signLang2/TFODCourse/Tensorflow/workspace/images/collectedimages/e/e.68c97faa-8992-11ec-98c7-f077c303fd08.xml\n",
      "Image:C:\\Users\\furqa\\OneDrive\\Desktop\\signLang2\\TFODCourse\\Tensorflow\\workspace\\images\\collectedimages\\e\\e.83f9c507-8992-11ec-9b60-f077c303fd08.jpg -> Annotation:C:/Users/furqa/OneDrive/Desktop/signLang2/TFODCourse/Tensorflow/workspace/images/collectedimages/e/e.83f9c507-8992-11ec-9b60-f077c303fd08.xml\n",
      "Image:C:\\Users\\furqa\\OneDrive\\Desktop\\signLang2\\TFODCourse\\Tensorflow\\workspace\\images\\collectedimages\\e\\e.85c8e0c1-8992-11ec-83f9-f077c303fd08.jpg -> Annotation:C:/Users/furqa/OneDrive/Desktop/signLang2/TFODCourse/Tensorflow/workspace/images/collectedimages/e/e.85c8e0c1-8992-11ec-83f9-f077c303fd08.xml\n",
      "Image:C:\\Users\\furqa\\OneDrive\\Desktop\\signLang2\\TFODCourse\\Tensorflow\\workspace\\images\\collectedimages\\e\\e.90a80ba1-8992-11ec-b95b-f077c303fd08.jpg -> Annotation:C:/Users/furqa/OneDrive/Desktop/signLang2/TFODCourse/Tensorflow/workspace/images/collectedimages/e/e.90a80ba1-8992-11ec-b95b-f077c303fd08.xml\n",
      "Image:C:\\Users\\furqa\\OneDrive\\Desktop\\signLang2\\TFODCourse\\Tensorflow\\workspace\\images\\collectedimages\\e\\e.096f8c7f-8993-11ec-ad9c-f077c303fd08.jpg -> Annotation:C:/Users/furqa/OneDrive/Desktop/signLang2/TFODCourse/Tensorflow/workspace/images/collectedimages/e/e.096f8c7f-8993-11ec-ad9c-f077c303fd08.xml\n",
      "Image:C:\\Users\\furqa\\OneDrive\\Desktop\\signLang2\\TFODCourse\\Tensorflow\\workspace\\images\\collectedimages\\e\\e.97e59f46-8992-11ec-a7a3-f077c303fd08.jpg -> Annotation:C:/Users/furqa/OneDrive/Desktop/signLang2/TFODCourse/Tensorflow/workspace/images/collectedimages/e/e.97e59f46-8992-11ec-a7a3-f077c303fd08.xml\n",
      "Image:C:\\Users\\furqa\\OneDrive\\Desktop\\signLang2\\TFODCourse\\Tensorflow\\workspace\\images\\collectedimages\\e\\e.99b483dc-8992-11ec-aa13-f077c303fd08.jpg -> Annotation:C:/Users/furqa/OneDrive/Desktop/signLang2/TFODCourse/Tensorflow/workspace/images/collectedimages/e/e.99b483dc-8992-11ec-aa13-f077c303fd08.xml\n",
      "Image:C:\\Users\\furqa\\OneDrive\\Desktop\\signLang2\\TFODCourse\\Tensorflow\\workspace\\images\\collectedimages\\e\\e.127ba6a9-8993-11ec-8639-f077c303fd08.jpg -> Annotation:C:/Users/furqa/OneDrive/Desktop/signLang2/TFODCourse/Tensorflow/workspace/images/collectedimages/e/e.127ba6a9-8993-11ec-8639-f077c303fd08.xml\n",
      "Image:C:\\Users\\furqa\\OneDrive\\Desktop\\signLang2\\TFODCourse\\Tensorflow\\workspace\\images\\collectedimages\\e\\e.144a0431-8993-11ec-b5f7-f077c303fd08.jpg -> Annotation:C:/Users/furqa/OneDrive/Desktop/signLang2/TFODCourse/Tensorflow/workspace/images/collectedimages/e/e.144a0431-8993-11ec-b5f7-f077c303fd08.xml\n",
      "Image:C:\\Users\\furqa\\OneDrive\\Desktop\\signLang2\\TFODCourse\\Tensorflow\\workspace\\images\\collectedimages\\e\\e.394ef2b3-8993-11ec-82b1-f077c303fd08.jpg -> Annotation:C:/Users/furqa/OneDrive/Desktop/signLang2/TFODCourse/Tensorflow/workspace/images/collectedimages/e/e.394ef2b3-8993-11ec-82b1-f077c303fd08.xml\n",
      "Image:C:\\Users\\furqa\\OneDrive\\Desktop\\signLang2\\TFODCourse\\Tensorflow\\workspace\\images\\collectedimages\\e\\e.408af8cd-8993-11ec-9f9f-f077c303fd08.jpg -> Annotation:C:/Users/furqa/OneDrive/Desktop/signLang2/TFODCourse/Tensorflow/workspace/images/collectedimages/e/e.408af8cd-8993-11ec-9f9f-f077c303fd08.xml\n",
      "Image:C:\\Users\\furqa\\OneDrive\\Desktop\\signLang2\\TFODCourse\\Tensorflow\\workspace\\images\\collectedimages\\e\\e.618d8d24-8992-11ec-9dea-f077c303fd08.jpg -> Annotation:C:/Users/furqa/OneDrive/Desktop/signLang2/TFODCourse/Tensorflow/workspace/images/collectedimages/e/e.618d8d24-8992-11ec-9dea-f077c303fd08.xml\n",
      "Image:C:\\Users\\furqa\\OneDrive\\Desktop\\signLang2\\TFODCourse\\Tensorflow\\workspace\\images\\collectedimages\\e\\e.635e4001-8992-11ec-bd0b-f077c303fd08.jpg -> Annotation:C:/Users/furqa/OneDrive/Desktop/signLang2/TFODCourse/Tensorflow/workspace/images/collectedimages/e/e.635e4001-8992-11ec-bd0b-f077c303fd08.xml\n",
      "Image:C:\\Users\\furqa\\OneDrive\\Desktop\\signLang2\\TFODCourse\\Tensorflow\\workspace\\images\\collectedimages\\e\\e.652c839b-8992-11ec-a905-f077c303fd08.jpg -> Annotation:C:/Users/furqa/OneDrive/Desktop/signLang2/TFODCourse/Tensorflow/workspace/images/collectedimages/e/e.652c839b-8992-11ec-a905-f077c303fd08.xml\n",
      "Image:C:\\Users\\furqa\\OneDrive\\Desktop\\signLang2\\TFODCourse\\Tensorflow\\workspace\\images\\collectedimages\\e\\e.822a00b2-8992-11ec-805e-f077c303fd08.jpg -> Annotation:C:/Users/furqa/OneDrive/Desktop/signLang2/TFODCourse/Tensorflow/workspace/images/collectedimages/e/e.822a00b2-8992-11ec-805e-f077c303fd08.xml\n",
      "Image:C:\\Users\\furqa\\OneDrive\\Desktop\\signLang2\\TFODCourse\\Tensorflow\\workspace\\images\\collectedimages\\e\\e.1618c122-8993-11ec-9b70-f077c303fd08.jpg -> Annotation:C:/Users/furqa/OneDrive/Desktop/signLang2/TFODCourse/Tensorflow/workspace/images/collectedimages/e/e.1618c122-8993-11ec-9b70-f077c303fd08.xml\n",
      "Image:C:\\Users\\furqa\\OneDrive\\Desktop\\signLang2\\TFODCourse\\Tensorflow\\workspace\\images\\collectedimages\\e\\e.3780f72f-8993-11ec-8317-f077c303fd08.jpg -> Annotation:C:/Users/furqa/OneDrive/Desktop/signLang2/TFODCourse/Tensorflow/workspace/images/collectedimages/e/e.3780f72f-8993-11ec-8317-f077c303fd08.xml\n",
      "Image:C:\\Users\\furqa\\OneDrive\\Desktop\\signLang2\\TFODCourse\\Tensorflow\\workspace\\images\\collectedimages\\e\\e.5316b77c-8992-11ec-aad0-f077c303fd08.jpg -> Annotation:C:/Users/furqa/OneDrive/Desktop/signLang2/TFODCourse/Tensorflow/workspace/images/collectedimages/e/e.5316b77c-8992-11ec-aad0-f077c303fd08.xml\n",
      "Image:C:\\Users\\furqa\\OneDrive\\Desktop\\signLang2\\TFODCourse\\Tensorflow\\workspace\\images\\collectedimages\\e\\e.8797bd5f-8992-11ec-96a1-f077c303fd08.jpg -> Annotation:C:/Users/furqa/OneDrive/Desktop/signLang2/TFODCourse/Tensorflow/workspace/images/collectedimages/e/e.8797bd5f-8992-11ec-96a1-f077c303fd08.xml\n",
      "Image:C:\\Users\\furqa\\OneDrive\\Desktop\\signLang2\\TFODCourse\\Tensorflow\\workspace\\images\\collectedimages\\e\\e.9277a5a5-8992-11ec-a231-f077c303fd08.jpg -> Annotation:C:/Users/furqa/OneDrive/Desktop/signLang2/TFODCourse/Tensorflow/workspace/images/collectedimages/e/e.9277a5a5-8992-11ec-a231-f077c303fd08.xml\n",
      "Image:C:\\Users\\furqa\\OneDrive\\Desktop\\signLang2\\TFODCourse\\Tensorflow\\workspace\\images\\collectedimages\\e\\e.49956c7d-8993-11ec-a62a-f077c303fd08.jpg -> Annotation:C:/Users/furqa/OneDrive/Desktop/signLang2/TFODCourse/Tensorflow/workspace/images/collectedimages/e/e.49956c7d-8993-11ec-a62a-f077c303fd08.xml\n",
      "Image:C:\\Users\\furqa\\OneDrive\\Desktop\\signLang2\\TFODCourse\\Tensorflow\\workspace\\images\\collectedimages\\e\\e.58804aab-8992-11ec-9eff-f077c303fd08.jpg -> Annotation:C:/Users/furqa/OneDrive/Desktop/signLang2/TFODCourse/Tensorflow/workspace/images/collectedimages/e/e.58804aab-8992-11ec-9eff-f077c303fd08.xml\n",
      "Image:C:\\Users\\furqa\\OneDrive\\Desktop\\signLang2\\TFODCourse\\Tensorflow\\workspace\\images\\collectedimages\\e\\e.58804aab-8992-11ec-9eff-f077c303fd08.jpg -> Annotation:C:\\Users\\furqa\\OneDrive\\Desktop\\signLang2\\TFODCourse\\Tensorflow\\workspace\\images\\collectedimages\\e\\e.58804aab-8992-11ec-9eff-f077c303fd08.xml\n",
      "Image:C:\\Users\\furqa\\OneDrive\\Desktop\\signLang2\\TFODCourse\\Tensorflow\\workspace\\images\\collectedimages\\e\\e.442807ac-8993-11ec-a50b-f077c303fd08.jpg -> Annotation:C:/Users/furqa/OneDrive/Desktop/signLang2/TFODCourse/Tensorflow/workspace/images/collectedimages/e/e.442807ac-8993-11ec-a50b-f077c303fd08.xml\n",
      "Image:C:\\Users\\furqa\\OneDrive\\Desktop\\signLang2\\TFODCourse\\Tensorflow\\workspace\\images\\collectedimages\\e\\e.514679a1-8992-11ec-a6c5-f077c303fd08.jpg -> Annotation:C:/Users/furqa/OneDrive/Desktop/signLang2/TFODCourse/Tensorflow/workspace/images/collectedimages/e/e.514679a1-8992-11ec-a6c5-f077c303fd08.xml\n",
      "Image:C:\\Users\\furqa\\OneDrive\\Desktop\\signLang2\\TFODCourse\\Tensorflow\\workspace\\images\\collectedimages\\e\\e.896818d7-8992-11ec-b08a-f077c303fd08.jpg -> Annotation:C:/Users/furqa/OneDrive/Desktop/signLang2/TFODCourse/Tensorflow/workspace/images/collectedimages/e/e.896818d7-8992-11ec-b08a-f077c303fd08.xml\n",
      "Image:C:\\Users\\furqa\\OneDrive\\Desktop\\signLang2\\TFODCourse\\Tensorflow\\workspace\\images\\collectedimages\\e\\e.961718c4-8992-11ec-8a6d-f077c303fd08.jpg -> Annotation:C:/Users/furqa/OneDrive/Desktop/signLang2/TFODCourse/Tensorflow/workspace/images/collectedimages/e/e.961718c4-8992-11ec-8a6d-f077c303fd08.xml\n"
     ]
    },
    {
     "name": "stderr",
     "output_type": "stream",
     "text": [
      "C:\\Users\\furqa\\OneDrive\\Desktop\\signLang2\\TFODCourse\\Tensorflow\\labelimg\\labelImg.py:971: DeprecationWarning: an integer is required (got type float).  Implicit conversion to integers using __int__ is deprecated, and may be removed in a future version of Python.\n",
      "  self.zoom_widget.setValue(value)\n",
      "C:\\Users\\furqa\\OneDrive\\Desktop\\signLang2\\TFODCourse\\Tensorflow\\labelimg\\labelImg.py:1025: DeprecationWarning: an integer is required (got type float).  Implicit conversion to integers using __int__ is deprecated, and may be removed in a future version of Python.\n",
      "  h_bar.setValue(new_h_bar_value)\n",
      "C:\\Users\\furqa\\OneDrive\\Desktop\\signLang2\\TFODCourse\\Tensorflow\\labelimg\\labelImg.py:1026: DeprecationWarning: an integer is required (got type float).  Implicit conversion to integers using __int__ is deprecated, and may be removed in a future version of Python.\n",
      "  v_bar.setValue(new_v_bar_value)\n",
      "C:\\Users\\furqa\\OneDrive\\Desktop\\signLang2\\TFODCourse\\Tensorflow\\labelimg\\labelImg.py:965: DeprecationWarning: an integer is required (got type float).  Implicit conversion to integers using __int__ is deprecated, and may be removed in a future version of Python.\n",
      "  bar.setValue(bar.value() + bar.singleStep() * units)\n"
     ]
    },
    {
     "name": "stdout",
     "output_type": "stream",
     "text": [
      "Image:C:\\Users\\furqa\\OneDrive\\Desktop\\signLang2\\TFODCourse\\Tensorflow\\workspace\\images\\collectedimages\\e\\e.4259708e-8993-11ec-a928-f077c303fd08.jpg -> Annotation:C:/Users/furqa/OneDrive/Desktop/signLang2/TFODCourse/Tensorflow/workspace/images/collectedimages/e/e.4259708e-8993-11ec-a928-f077c303fd08.xml\n",
      "Cancel creation.\n",
      "Image:C:\\Users\\furqa\\OneDrive\\Desktop\\signLang2\\TFODCourse\\Tensorflow\\workspace\\images\\collectedimages\\e\\e.9448060a-8992-11ec-bf0c-f077c303fd08.jpg -> Annotation:C:/Users/furqa/OneDrive/Desktop/signLang2/TFODCourse/Tensorflow/workspace/images/collectedimages/e/e.9448060a-8992-11ec-bf0c-f077c303fd08.xml\n",
      "Image:C:\\Users\\furqa\\OneDrive\\Desktop\\signLang2\\TFODCourse\\Tensorflow\\workspace\\images\\collectedimages\\e\\e.d5d4eb63-8992-11ec-8f28-f077c303fd08.jpg -> Annotation:C:/Users/furqa/OneDrive/Desktop/signLang2/TFODCourse/Tensorflow/workspace/images/collectedimages/e/e.d5d4eb63-8992-11ec-8f28-f077c303fd08.xml\n",
      "Image:C:\\Users\\furqa\\OneDrive\\Desktop\\signLang2\\TFODCourse\\Tensorflow\\workspace\\images\\collectedimages\\e\\e.d7a35a72-8992-11ec-92d8-f077c303fd08.jpg -> Annotation:C:/Users/furqa/OneDrive/Desktop/signLang2/TFODCourse/Tensorflow/workspace/images/collectedimages/e/e.d7a35a72-8992-11ec-92d8-f077c303fd08.xml\n",
      "Image:C:\\Users\\furqa\\OneDrive\\Desktop\\signLang2\\TFODCourse\\Tensorflow\\workspace\\images\\collectedimages\\e\\e.d236d59b-8992-11ec-b70f-f077c303fd08.jpg -> Annotation:C:/Users/furqa/OneDrive/Desktop/signLang2/TFODCourse/Tensorflow/workspace/images/collectedimages/e/e.d236d59b-8992-11ec-b70f-f077c303fd08.xml\n",
      "Image:C:\\Users\\furqa\\OneDrive\\Desktop\\signLang2\\TFODCourse\\Tensorflow\\workspace\\images\\collectedimages\\e\\e.d9739cf6-8992-11ec-951d-f077c303fd08.jpg -> Annotation:C:/Users/furqa/OneDrive/Desktop/signLang2/TFODCourse/Tensorflow/workspace/images/collectedimages/e/e.d9739cf6-8992-11ec-951d-f077c303fd08.xml\n",
      "Image:C:\\Users\\furqa\\OneDrive\\Desktop\\signLang2\\TFODCourse\\Tensorflow\\workspace\\images\\collectedimages\\e\\e.d4060772-8992-11ec-ac22-f077c303fd08.jpg -> Annotation:C:/Users/furqa/OneDrive/Desktop/signLang2/TFODCourse/Tensorflow/workspace/images/collectedimages/e/e.d4060772-8992-11ec-ac22-f077c303fd08.xml\n",
      "Image:C:\\Users\\furqa\\OneDrive\\Desktop\\signLang2\\TFODCourse\\Tensorflow\\workspace\\images\\collectedimages\\e\\e.dd113ddc-8992-11ec-889f-f077c303fd08.jpg -> Annotation:C:/Users/furqa/OneDrive/Desktop/signLang2/TFODCourse/Tensorflow/workspace/images/collectedimages/e/e.dd113ddc-8992-11ec-889f-f077c303fd08.xml\n",
      "Image:C:\\Users\\furqa\\OneDrive\\Desktop\\signLang2\\TFODCourse\\Tensorflow\\workspace\\images\\collectedimages\\e\\e.dee048c2-8992-11ec-8ad0-f077c303fd08.jpg -> Annotation:C:/Users/furqa/OneDrive/Desktop/signLang2/TFODCourse/Tensorflow/workspace/images/collectedimages/e/e.dee048c2-8992-11ec-8ad0-f077c303fd08.xml\n",
      "Image:C:\\Users\\furqa\\OneDrive\\Desktop\\signLang2\\TFODCourse\\Tensorflow\\workspace\\images\\collectedimages\\e\\e.e0b091cc-8992-11ec-a27a-f077c303fd08.jpg -> Annotation:C:/Users/furqa/OneDrive/Desktop/signLang2/TFODCourse/Tensorflow/workspace/images/collectedimages/e/e.e0b091cc-8992-11ec-a27a-f077c303fd08.xml\n",
      "Image:C:\\Users\\furqa\\OneDrive\\Desktop\\signLang2\\TFODCourse\\Tensorflow\\workspace\\images\\collectedimages\\e\\e.e7ecff3a-8992-11ec-abf3-f077c303fd08.jpg -> Annotation:C:/Users/furqa/OneDrive/Desktop/signLang2/TFODCourse/Tensorflow/workspace/images/collectedimages/e/e.e7ecff3a-8992-11ec-abf3-f077c303fd08.xml\n",
      "Image:C:\\Users\\furqa\\OneDrive\\Desktop\\signLang2\\TFODCourse\\Tensorflow\\workspace\\images\\collectedimages\\e\\e.e9bba6a1-8992-11ec-98c9-f077c303fd08.jpg -> Annotation:C:/Users/furqa/OneDrive/Desktop/signLang2/TFODCourse/Tensorflow/workspace/images/collectedimages/e/e.e9bba6a1-8992-11ec-98c9-f077c303fd08.xml\n",
      "Image:C:\\Users\\furqa\\OneDrive\\Desktop\\signLang2\\TFODCourse\\Tensorflow\\workspace\\images\\collectedimages\\e\\e.e27f00dc-8992-11ec-9527-f077c303fd08.jpg -> Annotation:C:/Users/furqa/OneDrive/Desktop/signLang2/TFODCourse/Tensorflow/workspace/images/collectedimages/e/e.e27f00dc-8992-11ec-9527-f077c303fd08.xml\n",
      "Image:C:\\Users\\furqa\\OneDrive\\Desktop\\signLang2\\TFODCourse\\Tensorflow\\workspace\\images\\collectedimages\\e\\e.e44de4c9-8992-11ec-be19-f077c303fd08.jpg -> Annotation:C:/Users/furqa/OneDrive/Desktop/signLang2/TFODCourse/Tensorflow/workspace/images/collectedimages/e/e.e44de4c9-8992-11ec-be19-f077c303fd08.xml\n",
      "Image:C:\\Users\\furqa\\OneDrive\\Desktop\\signLang2\\TFODCourse\\Tensorflow\\workspace\\images\\collectedimages\\e\\e.e61e5807-8992-11ec-a58d-f077c303fd08.jpg -> Annotation:C:/Users/furqa/OneDrive/Desktop/signLang2/TFODCourse/Tensorflow/workspace/images/collectedimages/e/e.e61e5807-8992-11ec-a58d-f077c303fd08.xml\n",
      "Image:C:\\Users\\furqa\\OneDrive\\Desktop\\signLang2\\TFODCourse\\Tensorflow\\workspace\\images\\collectedimages\\e\\e.e61e5807-8992-11ec-a58d-f077c303fd08.jpg -> Annotation:C:\\Users\\furqa\\OneDrive\\Desktop\\signLang2\\TFODCourse\\Tensorflow\\workspace\\images\\collectedimages\\e\\e.e61e5807-8992-11ec-a58d-f077c303fd08.xml\n"
     ]
    }
   ],
   "source": [
    "!cd {LABELIMG_PATH} && python labelImg.py"
   ]
  }
 ],
 "metadata": {
  "kernelspec": {
   "display_name": "Python 3",
   "language": "python",
   "name": "python3"
  },
  "language_info": {
   "codemirror_mode": {
    "name": "ipython",
    "version": 3
   },
   "file_extension": ".py",
   "mimetype": "text/x-python",
   "name": "python",
   "nbconvert_exporter": "python",
   "pygments_lexer": "ipython3",
   "version": "3.7.3"
  }
 },
 "nbformat": 4,
 "nbformat_minor": 2
}
